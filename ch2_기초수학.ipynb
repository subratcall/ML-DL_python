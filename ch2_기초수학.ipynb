{
  "nbformat": 4,
  "nbformat_minor": 0,
  "metadata": {
    "colab": {
      "name": "ch2_기초수학.ipynb",
      "provenance": [],
      "authorship_tag": "ABX9TyMG+5U588cZH7bQXKHf1yXf"
    },
    "kernelspec": {
      "name": "python3",
      "display_name": "Python 3"
    }
  },
  "cells": [
    {
      "cell_type": "markdown",
      "metadata": {
        "id": "30KxUfZGZOcI",
        "colab_type": "text"
      },
      "source": [
        "# 기초 수학\n",
        "\n",
        "## 확률변수와 확률분포\n",
        "\n",
        "1. 확률변수\n",
        "\n",
        "    * 랜덤 변수 (Random Variable) : 랜덤하게 발생하는 어떤 사건. \n",
        "    * 확률 변수 x가 가질 수 있는 모든 값의 확률을 더하면 1\n",
        "\n",
        "    1-1. 이산확률변수, 이산확률분포\n",
        "\n",
        "        - 불연속적인 이산 값 (연속된 값이 아닌 경우) -> 랜덤변수를 다루는 게 이산확률분포. \n",
        "        - 불연속적인 이산확률변수에 대한 확률 함수 = Probability Mass Function. (확률질량함수) ex) 주사위라면 1/6\n",
        "            * 베르누이 분포 = 확률 분포가 0 또는 1.\n",
        "            * 멀티눌리 분포 = 주사위처럼 여러 개의 이산값을 갖는 경우.\n",
        "\n",
        "        두 확률분포를 일반화하여 일어날 수 있는 확률을 이야기할 때는 각각 '이항 분포', '다향 분포'라고 부른다.\n",
        "\n",
        "    1-2. 연속확률변수, 연속확률분포\n",
        "\n",
        "        - 연속확률변수를 갖는 확률분포가 연속확률분포.\n",
        "        - 확률 질량 함수 \n",
        "\n"
      ]
    },
    {
      "cell_type": "code",
      "metadata": {
        "id": "iFtlWik3ZLTb",
        "colab_type": "code",
        "colab": {}
      },
      "source": [
        ""
      ],
      "execution_count": 0,
      "outputs": []
    }
  ]
}