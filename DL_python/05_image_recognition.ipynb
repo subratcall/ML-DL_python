{
 "cells": [
  {
   "cell_type": "code",
   "execution_count": 30,
   "metadata": {},
   "outputs": [],
   "source": [
    "import torch\n",
    "from torchvision import datasets, transforms\n",
    "# transform -> preprocess before fed to the network\n",
    "import matplotlib.pyplot as plt\n",
    "import numpy as np\n",
    "from torch.autograd import Variable\n",
    "from torch import nn\n",
    "import torch.nn.functional as F"
   ]
  },
  {
   "cell_type": "code",
   "execution_count": 38,
   "metadata": {
    "scrolled": true
   },
   "outputs": [],
   "source": [
    "transform = transforms.Compose([transforms.ToTensor(), transforms.Normalize((.5,),(.5,))])\n",
    "# totensor는 0~255의 numpy값을 0과 1 데이터 형태로 구분한다. 즉, 값이 0 아닌 건 다 1로 변환해 처리한다는 소리인듯\n",
    "# normalize는 [image channel, image width, image height] 값을\n",
    "# 첫 번째 bracket에는 normalize에 사용할 mean값을,\n",
    "# 두 번째 bracket에는 center diviation.\n",
    "\n",
    "# 여기서 .5를 쓴 이유는? \n",
    "# 최종적으로 만들고 싶은 결과는 range 0~1이 아니라 range -1~1 이기 때문. \n",
    "# 예컨대 0은 (0-.5)/.5 = -1로 최종 변환된다. 1은 (1-.5)/.5 = 1로 변환됨.\n",
    "\n",
    "# normalization은 본질적으로 reduce skewedness and distortion within dataset. (more efficient learning process)\n",
    "\n",
    "\n",
    "train_dataset = datasets.MNIST(root='./data', train=True, download = True, transform = transform)\n",
    "# train=True는 training용 데이터셋임을 나타낸것\n",
    "# 현재 데이터는 28 * 28 픽셀 이미지. 다시말해 2 dim numpy array이다.\n",
    "\n",
    "\n",
    "\n",
    "# 60000개의 dataset을 한 번 학습할 때마다 1 epoch : 너무 느림\n",
    "# 대신 이 중 몇 개만을 추려서 한 번 학습 -> epoch 증가하는 형태를 쓴다. 그게 training_loader의 의의\n",
    "# batch size가 100이면, 600번의 batch가 돌면 1 epoch임\n",
    "# shuffle을 해주는 이유는 혹시나 있을 local min을 방지하기 위해서.\n",
    "training_loader = torch.utils.data.DataLoader(dataset = train_dataset, batch_size = 100, shuffle=True)"
   ]
  },
  {
   "cell_type": "code",
   "execution_count": 39,
   "metadata": {},
   "outputs": [],
   "source": [
    "def image_convert(tensor):\n",
    "    # 원래 이미지로 돌려놓기 위한 함수\n",
    "    \n",
    "    image = tensor.clone().detach().numpy() # create new copy + detach\n",
    "    # [color channel, width, height] 값으로 구분됨. 엠니스트의 경우 1 * 28 * 28\n",
    "    \n",
    "    image = image.transpose(1,2,0) # 28*28*1로 변경\n",
    "    image = image * np.array((.5,.5,.5)) + np.array((.5,.5,.5)) #정규화한 작업을 풀어주는 거 같은데...\n",
    "\n",
    "    # 학습을 위해 0~1 값을 -1~1로 변경했으므로, 이걸 되돌려 준다\n",
    "    image = image.clip(0,1) # min을 0, max를 1로 변경해주는 것\n",
    "    return image"
   ]
  },
  {
   "cell_type": "code",
   "execution_count": 40,
   "metadata": {
    "scrolled": true
   },
   "outputs": [
    {
     "data": {
      "image/png": "[encoded data removed]",
      "text/plain": [
       "<Figure size 1800x288 with 20 Axes>"
      ]
     },
     "metadata": {
      "needs_background": "light"
     },
     "output_type": "display_data"
    }
   ],
   "source": [
    "dataiter = iter(training_loader)\n",
    "# create the object that allows us to go through the iterable One element at a time.\n",
    "# .next() 로 접근 가능함.\n",
    "# 이 데이터셋은 image, label 두 개의 데이터를 반환\n",
    "images, labels = dataiter.next()\n",
    "images.shape\n",
    "fig = plt.figure(figsize=(25,4))\n",
    "\n",
    "for i in np.arange(20):\n",
    "    ax = fig.add_subplot(2, 10, i+1) # 2 row, 10 columns per row, 마지막은 index. \n",
    "    #이 subplot에 총 20개의 공간이 있기 때문에 index는 1~20 사이값이어야 함\n",
    "    plt.imshow(image_convert(images[i]))\n",
    "    ax.set_title([labels[i].item()])\n"
   ]
  },
  {
   "cell_type": "code",
   "execution_count": 41,
   "metadata": {},
   "outputs": [],
   "source": [
    "class Classifier(nn.Module):\n",
    "    def __init__(self, input_size, hidden_1, hidden_2, output_size):\n",
    "        super().__init__()\n",
    "        self.linear1 = nn.Linear(input_size, hidden_1)\n",
    "        self.linear2 = nn.Linear(hidden_1, hidden_2)\n",
    "        self.linear3 = nn.Linear(hidden_2, output_size)\n",
    "        \n",
    "    def forward(self, x):\n",
    "        x = F.relu(self.linear1(x))\n",
    "        x = F.relu(self.linear2(x))\n",
    "        x = self.linear3(x) # score값을 말하기도 하는데, multiclass 분류에서 crossentropy 함수 작동을 위해 필요하다.\n",
    "        return x\n",
    "    "
   ]
  },
  {
   "cell_type": "code",
   "execution_count": 42,
   "metadata": {},
   "outputs": [
    {
     "data": {
      "text/plain": [
       "Classifier(\n",
       "  (linear1): Linear(in_features=784, out_features=125, bias=True)\n",
       "  (linear2): Linear(in_features=125, out_features=65, bias=True)\n",
       "  (linear3): Linear(in_features=65, out_features=10, bias=True)\n",
       ")"
      ]
     },
     "execution_count": 42,
     "metadata": {},
     "output_type": "execute_result"
    }
   ],
   "source": [
    "model = Classifier(28*28*1, 125, 65,10)\n",
    "model"
   ]
  },
  {
   "cell_type": "code",
   "execution_count": 43,
   "metadata": {},
   "outputs": [],
   "source": [
    "criterion = nn.CrossEntropyLoss()\n",
    "\n",
    "optimizer = torch.optim.Adam(model.parameters(), lr = .01)"
   ]
  },
  {
   "cell_type": "code",
   "execution_count": 44,
   "metadata": {},
   "outputs": [
    {
     "name": "stdout",
     "output_type": "stream",
     "text": [
      "training loss: 0.372196, Accuracy: 88.333336\n",
      "training loss: 0.217179, Accuracy: 93.573334\n",
      "training loss: 0.201254, Accuracy: 94.058334\n",
      "training loss: 0.182376, Accuracy: 94.688332\n",
      "training loss: 0.176675, Accuracy: 94.936668\n",
      "training loss: 0.174092, Accuracy: 94.933334\n",
      "training loss: 0.175444, Accuracy: 94.986664\n",
      "training loss: 0.167102, Accuracy: 95.336670\n",
      "training loss: 0.170577, Accuracy: 95.196663\n",
      "training loss: 0.153446, Accuracy: 95.683334\n",
      "training loss: 0.159138, Accuracy: 95.584999\n",
      "training loss: 0.159454, Accuracy: 95.584999\n"
     ]
    }
   ],
   "source": [
    "epochs = 12\n",
    "\n",
    "losses = []\n",
    "correct_history = []\n",
    "for e in range(epochs):\n",
    "    running_loss = 0\n",
    "    running_correct = 0\n",
    "    for images, labels in training_loader:\n",
    "        images = images.view(images.shape[0],-1)\n",
    "        outputs = model(images)\n",
    "        loss = criterion(outputs,labels)\n",
    "        \n",
    "        optimizer.zero_grad()\n",
    "        loss.backward()\n",
    "        optimizer.step()\n",
    "        \n",
    "        \n",
    "        _, pred = torch.max(outputs,1) # 튜플이 나올 때 첫번째 값은 image 연산결과고, 두 번째가 label값이 될 것.\n",
    "        # max(output,1)에서 1은 dim으로, 1이기 때문에 각 row별 최대값을 구함.\n",
    "\n",
    "#  tensor([[-1.2360, -0.2942, -0.1222,  0.8475],\n",
    "#         [ 1.1949, -1.1127, -2.2379, -0.6702],\n",
    "#         [ 1.5717, -0.9207,  0.1297, -1.8768],\n",
    "#         [-0.6172,  1.0036, -0.6060, -0.2432]])\n",
    "# torch.max(a, 1)\n",
    "# (tensor([ 0.8475,  1.1949,  1.5717,  1.0036]), tensor([ 3,  0,  0,  1]))\n",
    "\n",
    "        running_correct +=torch.sum(pred == labels.data)\n",
    "        running_loss += loss.item()\n",
    "        \n",
    "    else:\n",
    "        epoch_loss = running_loss / len(training_loader)\n",
    "        epoch_acc = running_correct.float() / len(training_loader)\n",
    "        losses.append(epoch_loss)\n",
    "        correct_history.append(epoch_acc)\n",
    "        print('training loss: {:4f}, Accuracy: {:4f}'.format(epoch_loss, epoch_acc))\n",
    "    "
   ]
  },
  {
   "cell_type": "code",
   "execution_count": 45,
   "metadata": {},
   "outputs": [
    {
     "data": {
      "text/plain": [
       "[<matplotlib.lines.Line2D at 0x11d466e80>]"
      ]
     },
     "execution_count": 45,
     "metadata": {},
     "output_type": "execute_result"
    },
    {
     "data": {
      "image/png": "[encoded data removed]",
      "text/plain": [
       "<Figure size 432x288 with 1 Axes>"
      ]
     },
     "metadata": {
      "needs_background": "light"
     },
     "output_type": "display_data"
    }
   ],
   "source": [
    "plt.plot(losses, label='training_loss')"
   ]
  },
  {
   "cell_type": "code",
   "execution_count": null,
   "metadata": {},
   "outputs": [],
   "source": []
  }
 ],
 "metadata": {
  "kernelspec": {
   "display_name": "Python 3",
   "language": "python",
   "name": "python3"
  },
  "language_info": {
   "codemirror_mode": {
    "name": "ipython",
    "version": 3
   },
   "file_extension": ".py",
   "mimetype": "text/x-python",
   "name": "python",
   "nbconvert_exporter": "python",
   "pygments_lexer": "ipython3",
   "version": "3.6.8"
  }
 },
 "nbformat": 4,
 "nbformat_minor": 2
}
