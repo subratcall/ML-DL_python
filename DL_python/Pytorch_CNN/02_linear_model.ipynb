{
 "cells": [
  {
   "cell_type": "code",
   "execution_count": 1,
   "metadata": {},
   "outputs": [],
   "source": [
    "import torch "
   ]
  },
  {
   "cell_type": "code",
   "execution_count": 2,
   "metadata": {},
   "outputs": [],
   "source": [
    "w = torch.tensor(3.0, requires_grad = True)\n",
    "b = torch.tensor(1.0, requires_grad = True)"
   ]
  },
  {
   "cell_type": "code",
   "execution_count": 3,
   "metadata": {},
   "outputs": [],
   "source": [
    "def forward(x):\n",
    "    y = w*x+b\n",
    "    return y"
   ]
  },
  {
   "cell_type": "code",
   "execution_count": 6,
   "metadata": {},
   "outputs": [
    {
     "data": {
      "text/plain": [
       "tensor([[ 7],\n",
       "        [28]], grad_fn=<AddBackward0>)"
      ]
     },
     "execution_count": 6,
     "metadata": {},
     "output_type": "execute_result"
    }
   ],
   "source": [
    "x = torch.tensor([[2],[9]]) # 여러 개의 input을 forward 함수에 넣어 처리한다.\n",
    "forward(x)"
   ]
  },
  {
   "cell_type": "code",
   "execution_count": 11,
   "metadata": {},
   "outputs": [
    {
     "name": "stdout",
     "output_type": "stream",
     "text": [
      "Parameter containing:\n",
      "tensor([-0.4414], requires_grad=True) Parameter containing:\n",
      "tensor([[0.5153]], requires_grad=True)\n"
     ]
    }
   ],
   "source": [
    "import torch.nn as nn\n",
    "from torch.nn import Linear\n",
    "torch.manual_seed(1) # torch에서 발생하는 랜덤성에 난수 부여해 랜덤성 제거.\n",
    "\n",
    "model = Linear(in_features = 1, out_features = 1) # single input, single output.\n",
    "\n",
    "print(model.bias, model.weight)"
   ]
  },
  {
   "cell_type": "code",
   "execution_count": 9,
   "metadata": {},
   "outputs": [
    {
     "name": "stdout",
     "output_type": "stream",
     "text": [
      "tensor([0.5891], grad_fn=<AddBackward0>)\n"
     ]
    }
   ],
   "source": [
    "x = torch.tensor([2.0])\n",
    "print(model(x))"
   ]
  },
  {
   "cell_type": "code",
   "execution_count": 19,
   "metadata": {},
   "outputs": [],
   "source": [
    "class LR(nn.Module):\n",
    "    def __init__(self, input_size, output_size):\n",
    "        super().__init__()\n",
    "        self.linear = nn.Linear(input_size, output_size)\n",
    "    def forward(self, x):\n",
    "        pred = self.linear(x)\n",
    "        return pred\n",
    "        "
   ]
  },
  {
   "cell_type": "code",
   "execution_count": 21,
   "metadata": {},
   "outputs": [
    {
     "name": "stdout",
     "output_type": "stream",
     "text": [
      "[Parameter containing:\n",
      "tensor([[0.2774]], requires_grad=True), Parameter containing:\n",
      "tensor([0.0493], requires_grad=True)]\n"
     ]
    }
   ],
   "source": [
    "model = LR(input_size=1, output_size=1)\n",
    "print(list(model.parameters()))"
   ]
  },
  {
   "cell_type": "code",
   "execution_count": 24,
   "metadata": {},
   "outputs": [
    {
     "name": "stdout",
     "output_type": "stream",
     "text": [
      "tensor([[0.4654],\n",
      "        [1.9909]], grad_fn=<AddmmBackward>)\n"
     ]
    }
   ],
   "source": [
    "x= torch.tensor([[1.5],[7.0]])\n",
    "print(model.forward(x))"
   ]
  },
  {
   "cell_type": "code",
   "execution_count": 38,
   "metadata": {},
   "outputs": [],
   "source": [
    "import matplotlib.pyplot as plt\n",
    "import numpy as np"
   ]
  },
  {
   "cell_type": "code",
   "execution_count": 31,
   "metadata": {},
   "outputs": [
    {
     "data": {
      "text/plain": [
       "Text(0.5, 0, 'x')"
      ]
     },
     "execution_count": 31,
     "metadata": {},
     "output_type": "execute_result"
    },
    {
     "data": {
      "image/png": "[encoded data removed]",
      "text/plain": [
       "<Figure size 432x288 with 1 Axes>"
      ]
     },
     "metadata": {
      "needs_background": "light"
     },
     "output_type": "display_data"
    }
   ],
   "source": [
    "X=torch.randn(100,1)*10 # 100 rows, 1 column인 정규분포 따르는 값 생성\n",
    "y = X + 3*torch.randn(100,1) # X값에 노이즈 추가\n",
    "plt.plot(X.numpy(), y.numpy(), 'o')\n",
    "plt.ylabel('y')\n",
    "plt.xlabel('x')"
   ]
  },
  {
   "cell_type": "code",
   "execution_count": 32,
   "metadata": {},
   "outputs": [],
   "source": [
    "[w,b] = model.parameters()"
   ]
  },
  {
   "cell_type": "code",
   "execution_count": 47,
   "metadata": {},
   "outputs": [],
   "source": [
    "#print(w,b)\n",
    "#w1 = w[0][0]#.item() -> pythonic value값을 원하면 item() 함수를 쓰면 된다\n",
    "#b1 = b[0]\n",
    "#print(w1, b1)\n",
    "\n",
    "def get_params():\n",
    "    return (w[0][0].item(), b[0].item())\n",
    "\n",
    "def plot_title(title):\n",
    "    plt.title = title\n",
    "    w1, b1 = get_params()\n",
    "    \n",
    "    x1 = np.array([-30,30])\n",
    "    y1 = w1*x1 + b1\n",
    "    plt.scatter(X, y)\n",
    "    plt.plot(x1, y1, 'r')\n",
    "    plt.show()"
   ]
  },
  {
   "cell_type": "code",
   "execution_count": 48,
   "metadata": {},
   "outputs": [
    {
     "data": {
      "image/png": "[encoded data removed]",
      "text/plain": [
       "<Figure size 432x288 with 1 Axes>"
      ]
     },
     "metadata": {
      "needs_background": "light"
     },
     "output_type": "display_data"
    }
   ],
   "source": [
    "plot_title('initial')"
   ]
  },
  {
   "cell_type": "code",
   "execution_count": 52,
   "metadata": {},
   "outputs": [],
   "source": [
    "criterion = nn.MSELoss()\n",
    "\n",
    "optimizer = torch.optim.SGD(model.parameters(), lr = .001)"
   ]
  },
  {
   "cell_type": "code",
   "execution_count": 53,
   "metadata": {
    "scrolled": true
   },
   "outputs": [
    {
     "name": "stdout",
     "output_type": "stream",
     "text": [
      "epoch: 0  loss:  827.94677734375\n",
      "epoch: 1  loss:  530.4345703125\n",
      "epoch: 2  loss:  340.6864318847656\n",
      "epoch: 3  loss:  219.6682891845703\n",
      "epoch: 4  loss:  142.48500061035156\n",
      "epoch: 5  loss:  93.25884246826172\n",
      "epoch: 6  loss:  61.86323165893555\n",
      "epoch: 7  loss:  41.83964157104492\n",
      "epoch: 8  loss:  29.068941116333008\n",
      "epoch: 9  loss:  20.924001693725586\n",
      "epoch: 10  loss:  15.72929573059082\n",
      "epoch: 11  loss:  12.416202545166016\n",
      "epoch: 12  loss:  10.303166389465332\n",
      "epoch: 13  loss:  8.95550537109375\n",
      "epoch: 14  loss:  8.095989227294922\n",
      "epoch: 15  loss:  7.547801494598389\n",
      "epoch: 16  loss:  7.19817590713501\n",
      "epoch: 17  loss:  6.9751877784729\n",
      "epoch: 18  loss:  6.832968235015869\n",
      "epoch: 19  loss:  6.742260932922363\n",
      "epoch: 20  loss:  6.684407711029053\n",
      "epoch: 21  loss:  6.647507667541504\n",
      "epoch: 22  loss:  6.623971939086914\n",
      "epoch: 23  loss:  6.608959674835205\n",
      "epoch: 24  loss:  6.599382400512695\n",
      "epoch: 25  loss:  6.593273162841797\n",
      "epoch: 26  loss:  6.58937406539917\n",
      "epoch: 27  loss:  6.586885929107666\n",
      "epoch: 28  loss:  6.585297107696533\n",
      "epoch: 29  loss:  6.584281921386719\n",
      "epoch: 30  loss:  6.583632946014404\n",
      "epoch: 31  loss:  6.583217144012451\n",
      "epoch: 32  loss:  6.582949638366699\n",
      "epoch: 33  loss:  6.582777500152588\n",
      "epoch: 34  loss:  6.58266544342041\n",
      "epoch: 35  loss:  6.582592487335205\n",
      "epoch: 36  loss:  6.582544326782227\n",
      "epoch: 37  loss:  6.582511901855469\n",
      "epoch: 38  loss:  6.582489490509033\n",
      "epoch: 39  loss:  6.582473278045654\n",
      "epoch: 40  loss:  6.582460880279541\n",
      "epoch: 41  loss:  6.582451343536377\n",
      "epoch: 42  loss:  6.582443714141846\n",
      "epoch: 43  loss:  6.582437515258789\n",
      "epoch: 44  loss:  6.582431316375732\n",
      "epoch: 45  loss:  6.582425594329834\n",
      "epoch: 46  loss:  6.582420349121094\n",
      "epoch: 47  loss:  6.582415580749512\n",
      "epoch: 48  loss:  6.5824103355407715\n",
      "epoch: 49  loss:  6.582405090332031\n",
      "epoch: 50  loss:  6.582400321960449\n",
      "epoch: 51  loss:  6.582395553588867\n",
      "epoch: 52  loss:  6.582391738891602\n",
      "epoch: 53  loss:  6.582386493682861\n",
      "epoch: 54  loss:  6.582381725311279\n",
      "epoch: 55  loss:  6.582376956939697\n",
      "epoch: 56  loss:  6.582372665405273\n",
      "epoch: 57  loss:  6.582367897033691\n",
      "epoch: 58  loss:  6.582363128662109\n",
      "epoch: 59  loss:  6.582359313964844\n",
      "epoch: 60  loss:  6.582354545593262\n",
      "epoch: 61  loss:  6.58234977722168\n",
      "epoch: 62  loss:  6.582345485687256\n",
      "epoch: 63  loss:  6.582340717315674\n",
      "epoch: 64  loss:  6.582336902618408\n",
      "epoch: 65  loss:  6.582332134246826\n",
      "epoch: 66  loss:  6.582327365875244\n",
      "epoch: 67  loss:  6.58232307434082\n",
      "epoch: 68  loss:  6.582318305969238\n",
      "epoch: 69  loss:  6.582314968109131\n",
      "epoch: 70  loss:  6.582310199737549\n",
      "epoch: 71  loss:  6.582306385040283\n",
      "epoch: 72  loss:  6.582301139831543\n",
      "epoch: 73  loss:  6.582297325134277\n",
      "epoch: 74  loss:  6.582292556762695\n",
      "epoch: 75  loss:  6.58228874206543\n",
      "epoch: 76  loss:  6.582284450531006\n",
      "epoch: 77  loss:  6.582279682159424\n",
      "epoch: 78  loss:  6.582275867462158\n",
      "epoch: 79  loss:  6.582271575927734\n",
      "epoch: 80  loss:  6.5822672843933105\n",
      "epoch: 81  loss:  6.582263469696045\n",
      "epoch: 82  loss:  6.582259178161621\n",
      "epoch: 83  loss:  6.5822553634643555\n",
      "epoch: 84  loss:  6.582251071929932\n",
      "epoch: 85  loss:  6.582246780395508\n",
      "epoch: 86  loss:  6.582242488861084\n",
      "epoch: 87  loss:  6.582238674163818\n",
      "epoch: 88  loss:  6.582234859466553\n",
      "epoch: 89  loss:  6.582230567932129\n",
      "epoch: 90  loss:  6.5822272300720215\n",
      "epoch: 91  loss:  6.5822224617004395\n",
      "epoch: 92  loss:  6.582218170166016\n",
      "epoch: 93  loss:  6.582214832305908\n",
      "epoch: 94  loss:  6.582211017608643\n",
      "epoch: 95  loss:  6.582206726074219\n",
      "epoch: 96  loss:  6.582202434539795\n",
      "epoch: 97  loss:  6.5821990966796875\n",
      "epoch: 98  loss:  6.582195281982422\n",
      "epoch: 99  loss:  6.582190990447998\n"
     ]
    }
   ],
   "source": [
    "epochs = 100\n",
    "losses=[]\n",
    "for epoch in range(epochs):\n",
    "    y_pred = model.forward(X)\n",
    "    \n",
    "    loss = criterion(y_pred, y) # 예측치와 실제 값의 차이\n",
    "    print('epoch:', epoch, \" loss: \", loss.item())\n",
    "    \n",
    "    losses.append(loss)\n",
    "    \n",
    "    \n",
    "    optimizer.zero_grad() #optimization을 수행하기 이전 initialization에서는 optimizer 값들이 0이어야 한다. \n",
    "    # 그래야 backward로 계산하면서 오차값을 채워넣기 때문\n",
    "    loss.backward() # loss의 derivative를 구하겠다는 함수\n",
    "    optimizer.step()\n",
    "    "
   ]
  },
  {
   "cell_type": "code",
   "execution_count": 55,
   "metadata": {},
   "outputs": [
    {
     "data": {
      "text/plain": [
       "Text(0, 0.5, 'Loss')"
      ]
     },
     "execution_count": 55,
     "metadata": {},
     "output_type": "execute_result"
    },
    {
     "data": {
      "image/png": "[encoded data removed]",
      "text/plain": [
       "<Figure size 432x288 with 1 Axes>"
      ]
     },
     "metadata": {
      "needs_background": "light"
     },
     "output_type": "display_data"
    }
   ],
   "source": [
    "plt.plot(range(epochs), losses)\n",
    "plt.xlabel('epochs')\n",
    "plt.ylabel('Loss')"
   ]
  },
  {
   "cell_type": "code",
   "execution_count": 57,
   "metadata": {},
   "outputs": [
    {
     "data": {
      "image/png": "[encoded data removed]",
      "text/plain": [
       "<Figure size 432x288 with 1 Axes>"
      ]
     },
     "metadata": {
      "needs_background": "light"
     },
     "output_type": "display_data"
    }
   ],
   "source": [
    "plot_title('trained_model')"
   ]
  }
 ],
 "metadata": {
  "kernelspec": {
   "display_name": "Python 3",
   "language": "python",
   "name": "python3"
  },
  "language_info": {
   "codemirror_mode": {
    "name": "ipython",
    "version": 3
   },
   "file_extension": ".py",
   "mimetype": "text/x-python",
   "name": "python",
   "nbconvert_exporter": "python",
   "pygments_lexer": "ipython3",
   "version": "3.6.8"
  }
 },
 "nbformat": 4,
 "nbformat_minor": 2
}
