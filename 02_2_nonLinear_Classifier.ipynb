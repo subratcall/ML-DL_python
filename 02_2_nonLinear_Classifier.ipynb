{
 "cells": [
  {
   "cell_type": "code",
   "execution_count": 1,
   "metadata": {},
   "outputs": [],
   "source": [
    "import pandas as pd\n",
    "import numpy as np\n",
    "from scipy import sparse\n",
    "%matplotlib inline\n",
    "import matplotlib.pyplot as plt\n",
    "import mglearn\n",
    "import sklearn"
   ]
  },
  {
   "cell_type": "markdown",
   "metadata": {},
   "source": [
    "# Naive Bayes \n",
    "\n",
    "    logistic과 linearSVC보다 훈련 속도가 빠르지만 일반화 성능이 좋지 않음.\n",
    "    선형모델로는 학습이 오래 걸리는 '큰 데이터셋'에서는 쓸만하며 종종 사용된다고."
   ]
  },
  {
   "cell_type": "markdown",
   "metadata": {},
   "source": [
    "# Decision Tree\n",
    "\n",
    "    정답에 가장 빨리 도달하는 yes / no 질문 목록을 학습한다는 뜻. 연속적인 데이터의 경우 'feature i는 값 a보다 큰가?' 와 같은 형태."
   ]
  }
 ],
 "metadata": {
  "kernelspec": {
   "display_name": "Python 3",
   "language": "python",
   "name": "python3"
  },
  "language_info": {
   "codemirror_mode": {
    "name": "ipython",
    "version": 3
   },
   "file_extension": ".py",
   "mimetype": "text/x-python",
   "name": "python",
   "nbconvert_exporter": "python",
   "pygments_lexer": "ipython3",
   "version": "3.7.1"
  }
 },
 "nbformat": 4,
 "nbformat_minor": 2
}
