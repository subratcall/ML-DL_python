{
 "cells": [
  {
   "cell_type": "markdown",
   "metadata": {},
   "source": [
    "## kaggle 접근 순서\n",
    "\n",
    "\n",
    "-----\n",
    "\n",
    "1. EDA. 눈으로 훓어보고, 기초 통계 뽑아보고, 막대그래프 같은 걸로 단일 변수 시각화도 해보고,\n",
    "    산점도와 같은 변수 간 관계를 시각화\n",
    "    \n",
    "    \n",
    "2. 평가 척도 이해. kaggle의 문제의도 이해하는 것과 같으며, 어떤 예측값이 페널티를 크게 받고 어떤 값이 페널티를 덜 받는지 이해하기\n",
    "\n",
    "\n",
    "3. cross validation 기법 선정. 케글에서 안정적인 성적을 거두려면 신뢰할 수 있는 교차검증기법을 구축하는 게 중요하다.\n",
    "\n",
    "일반적인 교차검증 방법\n",
    "- 제공된 데이터를 5:5 ~ 9:1 비율로 train/validation으로 분류.\n",
    "- 훈련 데이터에는 학습을, validation에서 평가 척도 점수를 구한다\n",
    "- 1,2번을 10번 반복하여, 검증 데이터의 평균점수를 구한다\n",
    "\n",
    "알아두면 좋은 내용\n",
    "- 데이터 크기에 따라 train/validation 분리 비율이 다르다. 데이터가 크면 5:5도 괜찮고, 적을 경우 9:1. 재현성을 위해 random_seed 설정\n",
    "- 분리 방법으로는 random split 또는 정답 레이블의 비율을 유지하며 임의로 분리하는 stratified split을 수행한다.\n",
    "- 시계열 데이터라면 항상 train 데이터는 validation 데이터보다 과거로.\n"
   ]
  },
  {
   "cell_type": "code",
   "execution_count": null,
   "metadata": {},
   "outputs": [],
   "source": []
  }
 ],
 "metadata": {
  "kernelspec": {
   "display_name": "Python 3",
   "language": "python",
   "name": "python3"
  },
  "language_info": {
   "codemirror_mode": {
    "name": "ipython",
    "version": 3
   },
   "file_extension": ".py",
   "mimetype": "text/x-python",
   "name": "python",
   "nbconvert_exporter": "python",
   "pygments_lexer": "ipython3",
   "version": "3.6.8"
  }
 },
 "nbformat": 4,
 "nbformat_minor": 2
}
