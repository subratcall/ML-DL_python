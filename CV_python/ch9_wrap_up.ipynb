{
 "cells": [
  {
   "cell_type": "markdown",
   "metadata": {},
   "source": [
    "### Computer Vision\n",
    "\n",
    "- image manipulation and Segmentation\n",
    "- Object Recognition Methods\n",
    "- ML in CV\n",
    "- Facial Feature Analysis and Recognition\n",
    "- Motion Analysis and Object Tracking\n",
    "\n",
    "\n",
    "1. Create your own project\n",
    "2. Read and implement research paper\n",
    "3. Explore Computer Vision Blog\n",
    "    - pyimagesearch.com\n",
    "    - learnopencv.com\n",
    "    - aishack.in (프로젝트 많음)\n",
    "    - opencv.org/category/news\n",
    "\n",
    "\n",
    "특히 Object Recognition은 Deep Belief / CNN으로 발전 진행중.\n",
    "\n",
    "< Startup ideas >\n",
    "\n",
    "* Fall detection for elderly\n",
    "* Searching for missing people using drone.\n",
    "* Use drone to count people or tailing\n",
    "* CCTV footage for Smart surveillance system. (풀장이나 난간에 있는 어린아이에게 경고할 수 있는)\n",
    "\n",
    "cs229 ML 참고도 괜찮다.\n",
    "\n",
    "\n",
    "#### OpenCV in mobile App / Web API\n",
    "\n",
    "**API** using Django / Flask\n",
    "\n",
    "장점: 인터넷 있으면 OK.\n",
    "\n",
    "단점: API로 비디오 작업을 하기는 쉽지 않을 것. (bandwidth / other issues), Real time은 쉽지 않다.\n",
    "\n",
    "**Native Mobile**\n",
    "\n",
    "장점: real time가능, cloud base일 필요 없음\n",
    "\n",
    "단점: heavy processing 불가능. mobile 기반 opencv는 python에 비해 not sophisticated."
   ]
  },
  {
   "cell_type": "code",
   "execution_count": null,
   "metadata": {},
   "outputs": [],
   "source": []
  }
 ],
 "metadata": {
  "kernelspec": {
   "display_name": "Python 3",
   "language": "python",
   "name": "python3"
  },
  "language_info": {
   "codemirror_mode": {
    "name": "ipython",
    "version": 3
   },
   "file_extension": ".py",
   "mimetype": "text/x-python",
   "name": "python",
   "nbconvert_exporter": "python",
   "pygments_lexer": "ipython3",
   "version": "3.7.3"
  }
 },
 "nbformat": 4,
 "nbformat_minor": 2
}
