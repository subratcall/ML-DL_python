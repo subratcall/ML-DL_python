{
 "cells": [
  {
   "cell_type": "markdown",
   "metadata": {},
   "source": [
    "# image Manipulation\n",
    "\n",
    "\n",
    "Thresholding / Edge Detection.\n",
    "\n",
    "Transformation = geometric distortions enacted upon an image. \n",
    "\n",
    "(resize, rotation, translation과 같은 간단한 것뿐만 아니라 perspective issues (여러 각도에서 본 사물) emdemd.)\n",
    "\n",
    "CV에서는 크게 두 종류로 구분한다. **Affine, Non - Affine.**\n",
    "\n",
    "\n",
    "**Affine**\n",
    "\n",
    "* Scaling, rotation, translation 등을 말함. 크기변화, 회전, 이동 등. 핵심은 'parallel in the origin.' 도형의 라인과 라인 사이의 평행관계는 유지되는 게 핵심임. (직사각형 크기를 줄이거나 회전시킨다 해도 직사각형의 각도가 변하지는 않듯.)\n",
    "\n",
    "**Non - Affine**\n",
    "\n",
    "* Projective transform이나 Homography라고도 불리며, affine과 다르게 parallel을 유지하지 않는 게 특징이다. 그래도, Collinearity나 incidence는 유지한다.\n",
    "* 실제로 CV에서 많이 다루며, 보통 카메라 앵글 등에 의해 변형된 이미지들이 여기에 해당한다. CV는 이런 식으로, 카메라 앵글 등에 의해 구도가 바뀌거나 변형된 이미지를 인식하는 작업을 진행함.\n",
    "\n",
    "Collinearity : 직사각형을 변형할 때, 직사각형을 이루는 점이나 선 자체는 그대로 유지될 경우. (사다리꼴처럼 바꿀 수는 있지만, 점이나 선을 없애지는 않는다)\n",
    "\n",
    "\n",
    "### translations\n",
    "\n",
    "이미지를 특정 방향으로 이동시키는 것. 오른쪽 / 왼쪽, 위아래 등등 전부 해당하며\n",
    "\n",
    "translation Matrix : \n",
    "```python\n",
    "t = [[1,0,Tx],\n",
    "     [0,1,Ty]]\n",
    "# Tx = shift along x-axis (horizontal), Ty = shift along y-axis(vertical)\n",
    "# x, y값 변화에 따라 diagonal도도 가능함. \n",
    "```\n",
    "\n",
    "openCV에서는 cv2.warpAffine 함수 사용. 이 함수를 위해서는 translation matrix가 필요하다.\n",
    "\n",
    "Tx와 Ty값이 필요하고, 이미지는 왼쪽 상단값을 기준으로 한다.\n",
    "\n",
    "\n",
    "### Rotation\n",
    "\n",
    "Matrix M\n",
    "```python\n",
    "M = [[cosX, -sinX],\n",
    "     [sinX, cosX]]\n",
    "# 여기서 X는 angle of Rotation. 1사분면\n",
    "```\n",
    "cv2.getRotationMatrix2D(rotation_center_x, rotation_center_y, angle_of_rotation, scale)\n",
    "\n",
    "특이점은, 이 함수는 scaling과 rotation을 같이 진행한다.\n",
    "\n"
   ]
  },
  {
   "cell_type": "code",
   "execution_count": 2,
   "metadata": {},
   "outputs": [],
   "source": [
    "import cv2\n",
    "import numpy as np\n",
    "\n",
    "image = cv2.imread('./MasteringComputerVision-V1.03/Master OpenCV/images/input.jpg')\n",
    "\n",
    "# Store height and width of the image\n",
    "height, width = image.shape[:2]\n",
    "\n",
    "quarter_height, quarter_width = height/4, width/4\n",
    "\n",
    "#       | 1 0 Tx |\n",
    "#  T  = | 0 1 Ty |\n",
    "\n",
    "# T matrix는 이런 식으로 만든다. np float32에 유의.\n",
    "T = np.float32([[1, 0, quarter_width], [0, 1,quarter_height]])\n",
    "\n",
    "img_translation = cv2.warpAffine(image, T, (width, height)) # width, height 순서에 유의\n",
    "cv2.imshow('Translation', img_translation)\n",
    "cv2.waitKey()\n",
    "cv2.destroyAllWindows()"
   ]
  },
  {
   "cell_type": "code",
   "execution_count": 3,
   "metadata": {},
   "outputs": [
    {
     "name": "stdout",
     "output_type": "stream",
     "text": [
      "[[  1.     0.   311.25]\n",
      " [  0.     1.   207.5 ]]\n"
     ]
    }
   ],
   "source": [
    "print(T)\n",
    "# T matrix 값."
   ]
  },
  {
   "cell_type": "code",
   "execution_count": 4,
   "metadata": {},
   "outputs": [],
   "source": [
    "rotation_matrix = cv2.getRotationMatrix2D((width/2, height/2), 90, .5)\n",
    "# 이미지의 중앙을 회전기준으로 잡기 위해 width / 2, height / 2를 사용했다. 다르게 설정해도 무방하다고. 각도는 AnticlockWise 방향임.\n",
    "\n",
    "rotated_image = cv2.warpAffine(image, rotation_matrix, (width, height))\n",
    "# 이미지를 회전할 때, 가로세로 길이가 다르면 width, height값을 다르게 설정해줘야 결과 화면에서 blackspace가 뜨지 않는다.\n",
    "# width, height을 manual하게 설정하면 해결할 수 있지만, 굳이 그러지 말고 transpose 함수를 활용하자.\n",
    "\n",
    "cv2.imshow('Rotated Image', rotated_image)\n",
    "cv2.waitKey()\n",
    "cv2.destroyAllWindows()"
   ]
  },
  {
   "cell_type": "code",
   "execution_count": 5,
   "metadata": {},
   "outputs": [],
   "source": [
    "rotated_image = cv2.transpose(image)\n",
    "# 이렇게.\n",
    "\n",
    "cv2.imshow('Rotated Image - Method 2', rotated_image)\n",
    "cv2.waitKey()\n",
    "cv2.destroyAllWindows()"
   ]
  },
  {
   "cell_type": "code",
   "execution_count": null,
   "metadata": {},
   "outputs": [],
   "source": []
  }
 ],
 "metadata": {
  "kernelspec": {
   "display_name": "Python 3",
   "language": "python",
   "name": "python3"
  },
  "language_info": {
   "codemirror_mode": {
    "name": "ipython",
    "version": 3
   },
   "file_extension": ".py",
   "mimetype": "text/x-python",
   "name": "python",
   "nbconvert_exporter": "python",
   "pygments_lexer": "ipython3",
   "version": "3.7.3"
  }
 },
 "nbformat": 4,
 "nbformat_minor": 2
}
