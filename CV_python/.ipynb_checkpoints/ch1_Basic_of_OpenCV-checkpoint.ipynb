{
 "cells": [
  {
   "cell_type": "markdown",
   "metadata": {},
   "source": [
    "# CV With python \n",
    "---\n",
    "\n",
    "강사: Rajeev\n",
    "\n",
    "50 exercises, 12 mini projects.\n",
    "\n",
    "Computer Vision : Enable Computers to understand what's being seen in an image.\n",
    "\n",
    "Challenging reason:\n",
    "\n",
    "1. 카메라센서와 렌즈의 limits. low light condition에서 카메라로 이미지를 담아내면 노이즈가 심함. 이미지를 zoom in해서 segment를 볼 경우 pixilated img가 된다.\n",
    "2. viewpoint variations, changing light conditions, scaling issues, not-rigid deformations, Occlustion (blocked img), background clutter (배경이 어수선한 이미지인 경우. 네온사인으로 가득찬 밤거리나, 돌에 붙어서 위장한 문어같은 거), object class variations. (다양한 종류의 object를 하나의 카테고리로 인식시키는 것)\n",
    "4. ambiguous img with optical illusions. (착시현상 일으키는 사진들)\n",
    "\n",
    "그럼에도 불구하고, 꽤 많은 성공사례들. 자율주행차가 그렇고, face recognition이 그렇고. image search engine, license plate recognitions, handwriting recognitions, object recognitions 등등.\n",
    "\n",
    "### openCV\n",
    "\n",
    "DS, ML에 강한 python, numpy로 operation 쉽게 처리 가능."
   ]
  },
  {
   "cell_type": "markdown",
   "metadata": {},
   "source": [
    "## Basics of CV and OpenCV\n",
    "\n",
    "\n",
    "### What are images?\n",
    "\n",
    "2-dim representation of the visible light spectrum.\n",
    "\n",
    "dots per inch (dpi). each dots reflects diff wavelengths of lights. 얘네가 곧 visible light spectrum이 된다. 사람이 눈으로 볼 수 있는 wavelength는 정해져 있고 (적외선 같은 거 빼면), 이 wavelength의 크기에 따라 색깔이 달라진다.\n",
    "\n",
    "### opencv?\n",
    "\n",
    "written in C++. 2.0은 09년, 3.0이 15년에 released. 2.4.13이 OpenCV 2.x의 stable version이며, 3.0으로 올라갈 때 patent 문제 때문에 몇몇 중요한 알고리즘이 삭제되었다고 함 (SIFT, SURF). "
   ]
  },
  {
   "cell_type": "code",
   "execution_count": 3,
   "metadata": {},
   "outputs": [],
   "source": [
    "import cv2"
   ]
  },
  {
   "cell_type": "code",
   "execution_count": 4,
   "metadata": {},
   "outputs": [],
   "source": [
    "import numpy as np\n",
    "import glob"
   ]
  },
  {
   "cell_type": "code",
   "execution_count": 11,
   "metadata": {},
   "outputs": [
    {
     "data": {
      "text/plain": [
       "119"
      ]
     },
     "execution_count": 11,
     "metadata": {},
     "output_type": "execute_result"
    }
   ],
   "source": [
    "inputs = cv2.imread(\"./MasteringComputerVision-V1.03/Master OpenCV/images/input.jpg\")\n",
    "cv2.imshow(\"hello world\", inputs)\n",
    "cv2.waitKey()\n",
    "# cv2.destroyAllWindows()"
   ]
  },
  {
   "cell_type": "code",
   "execution_count": 8,
   "metadata": {},
   "outputs": [
    {
     "name": "stdout",
     "output_type": "stream",
     "text": [
      "(830, 1245, 3)\n"
     ]
    }
   ],
   "source": [
    "print(inputs.shape)\n",
    "# height, width, RGB"
   ]
  },
  {
   "cell_type": "code",
   "execution_count": 10,
   "metadata": {},
   "outputs": [
    {
     "data": {
      "text/plain": [
       "True"
      ]
     },
     "execution_count": 10,
     "metadata": {},
     "output_type": "execute_result"
    }
   ],
   "source": [
    "# 이미지 저장\n",
    "cv2.imwrite(\"output.jpg\", inputs)\n",
    "cv2.imwrite(\"output.png\", inputs)\n",
    "\n",
    "# jpg, png 등 다양한 이미지형식 지원. "
   ]
  },
  {
   "cell_type": "markdown",
   "metadata": {},
   "source": [
    "### GrayScaling.\n",
    "\n",
    "black / white 이미지로 변경하기.\n",
    "\n",
    "앞서 로딩한 이미지 변경하기.\n",
    "\n",
    "openCV에서 이미지 처리할 때, 선행작업으로 많이 요구하는 게 grayscale img로 변경하는 작업. less info / same segment of img이기 때문 (연산효율성)"
   ]
  },
  {
   "cell_type": "code",
   "execution_count": 16,
   "metadata": {},
   "outputs": [],
   "source": [
    "# gray_img = cv2.cvtColor(inputs, cv2.COLOR_BGR2GRAY) 이렇게 바꿀 수도 있지만, 이미지 불러올 때 0값을 입력해서 바로 적용할 수도 있다.\n",
    "gray_img = cv2.imread(\"./MasteringComputerVision-V1.03/Master OpenCV/images/input.jpg\",0)\n",
    "cv2.imshow('Grayscale', gray_img)\n",
    "cv2.waitKey()\n",
    "cv2.destroyAllWindows()"
   ]
  },
  {
   "cell_type": "markdown",
   "metadata": {},
   "source": [
    "### Color Space\n",
    "\n",
    "RGB 외에도 HSV, CMYK 등등. color 표현하는 여러 방법들임.\n",
    "\n",
    "opencv의 기본은 RGB. 정확히는 BGR format. 연산의 효율성 때문에 메인으로 쓰인다는 듯.\n",
    "\n",
    "HSV - Hue (color, 0 - 179), Saturation(vibrancy of color, 0 - 255), value(brightness, 0 - 255). \n",
    "\n",
    "(low saturation에서는 다 흰색. high일수록 원색에 가까워진다. value의 경우 낮을수록 검은색에 가까워짐.)\n",
    "\n",
    "attempts to represent colors the way human perceive it. (cylindrical representation of RGB color points)\n",
    "\n",
    "#### Color Filtering에서 HSV가 꽤 유용하다.\n",
    "\n",
    "Hue color range(0 - 179) -> map differently than standard.\n",
    "\n",
    "red = 165 to 15, green = 45 to 75, blue = 90 to 120\n"
   ]
  },
  {
   "cell_type": "code",
   "execution_count": 21,
   "metadata": {},
   "outputs": [
    {
     "name": "stdout",
     "output_type": "stream",
     "text": [
      "12 18 29\n",
      "(830, 1245)\n",
      "21\n"
     ]
    }
   ],
   "source": [
    "# BGR value for the first [0,0] pixel\n",
    "B, G, R = inputs[0,0]\n",
    "print(B,G,R)\n",
    "\n",
    "# gray img로 바꾸면 값이 하나로 줄어든다.\n",
    "print(gray_img.shape)\n",
    "print(gray_img[0,0])"
   ]
  },
  {
   "cell_type": "code",
   "execution_count": 23,
   "metadata": {},
   "outputs": [],
   "source": [
    "# BGR to HSV 변환하기\n",
    "\n",
    "hsv_image = cv2.cvtColor(inputs, cv2.COLOR_BGR2HSV)\n",
    "cv2.imshow(\"hsv_img\",hsv_image)\n",
    "cv2.imshow('hue channel', hsv_image[:,:,0])\n",
    "cv2.imshow('saturation channel', hsv_image[:,:,1])\n",
    "cv2.imshow(\"value channel\", hsv_image[:,:,2])\n",
    "\n",
    "cv2.waitKey()\n",
    "cv2.destroyAllWindows()\n",
    "\n",
    "# brightness인 value를 보면 그냥 흑백이미지처럼 보인다. 실제로 value는 brightness만을 다루기 때문."
   ]
  },
  {
   "cell_type": "code",
   "execution_count": 25,
   "metadata": {},
   "outputs": [
    {
     "name": "stdout",
     "output_type": "stream",
     "text": [
      "(830, 1245)\n"
     ]
    }
   ],
   "source": [
    "# openCV의 split은 BGR값을 구분해준다.\n",
    "B, G, R = cv2.split(inputs)\n",
    "print(B.shape)\n",
    "cv2.imshow(\"Red\", R)\n",
    "cv2.imshow(\"Green\", G)\n",
    "cv2.imshow(\"Blue\", B)\n",
    "cv2.waitKey(0)\n",
    "cv2.destroyAllWindows()\n",
    "\n"
   ]
  },
  {
   "cell_type": "code",
   "execution_count": 26,
   "metadata": {},
   "outputs": [],
   "source": [
    "# BGR 갖고 원래 이미지로 복구하기\n",
    "merged = cv2.merge([B, G, R]) \n",
    "cv2.imshow(\"Merged\", merged) \n",
    "\n",
    "# blue값 amplify\n",
    "merged = cv2.merge([B+100, G, R])\n",
    "cv2.imshow(\"Merged with Blue Amplified\", merged) \n",
    "\n",
    "cv2.waitKey(0)\n",
    "cv2.destroyAllWindows()"
   ]
  },
  {
   "cell_type": "code",
   "execution_count": 28,
   "metadata": {},
   "outputs": [],
   "source": [
    "# 빈 numpy array에 RGB값만 넣어서 확인해보기\n",
    "\n",
    "zeros = np.zeros(inputs.shape[:2], dtype = 'uint8')\n",
    "\n",
    "cv2.imshow(\"Red\", cv2.merge([zeros, zeros, R]))\n",
    "cv2.imshow(\"Green\", cv2.merge([zeros, G, zeros]))\n",
    "cv2.imshow(\"Blue\", cv2.merge([B, zeros, zeros]))\n",
    "\n",
    "cv2.waitKey(0)\n",
    "cv2.destroyAllWindows()"
   ]
  },
  {
   "cell_type": "code",
   "execution_count": 29,
   "metadata": {},
   "outputs": [],
   "source": [
    "cv2.destroyAllWindows()"
   ]
  },
  {
   "cell_type": "markdown",
   "metadata": {},
   "source": [
    "### Histogram - to visualize individual color components\n",
    "\n",
    "**cv2.calcHist(images, channels, mask, histSize, ranges[, hist[, accumulate]])**\n",
    "\n",
    "- images : it is the source image of type uint8 or float32. it should be given in square brackets, ie, \"[img]\".\n",
    "- channels : it is also given in square brackets. It is the index of channel for which we calculate histogram. For example, if input is grayscale image, its value is [0]. For color image, you can pass [0], [1] or [2] to calculate histogram of blue, green or red channel respectively.\n",
    "- mask : mask image. To find histogram of full image, it is given as \"None\". But if you want to find histogram of particular region of image, you have to create a mask image for that and give it as mask. (I will show an example later.)\n",
    "- histSize : this represents our BIN count. Need to be given in square brackets. For full scale, we pass [256].\n",
    "- ranges : this is our RANGE. Normally, it is [0,256]."
   ]
  },
  {
   "cell_type": "code",
   "execution_count": 32,
   "metadata": {},
   "outputs": [
    {
     "data": {
      "image/png": "[encoded data removed]",
      "text/plain": [
       "<Figure size 432x288 with 1 Axes>"
      ]
     },
     "metadata": {
      "needs_background": "light"
     },
     "output_type": "display_data"
    },
    {
     "data": {
      "image/png": "[encoded data removed]",
      "text/plain": [
       "<Figure size 432x288 with 1 Axes>"
      ]
     },
     "metadata": {
      "needs_background": "light"
     },
     "output_type": "display_data"
    }
   ],
   "source": [
    "from matplotlib import pyplot as plt\n",
    "\n",
    "\n",
    "histogram = cv2.calcHist([inputs], [0], None, [256], [0, 256])\n",
    "\n",
    "# img array를 collapse하는 게 .ravel()\n",
    "plt.hist(inputs.ravel(), 256, [0, 256]); plt.show()\n",
    "\n",
    "color = ('b', 'g', 'r')\n",
    "\n",
    "for i, col in enumerate(color):\n",
    "    histogram2 = cv2.calcHist([inputs], [i], None, [256], [0, 256])\n",
    "    plt.plot(histogram2, color = col)\n",
    "    plt.xlim([0,256])\n",
    "\n",
    "plt.show()\n",
    "\n",
    "# 이미지가 어두운 편이라서 값이 왼쪽으로 편중해 있다. 보통 밝은 이미지는 가운데에 분포가 많은 편."
   ]
  },
  {
   "cell_type": "code",
   "execution_count": 34,
   "metadata": {},
   "outputs": [
    {
     "data": {
      "image/png": "[encoded data removed]",
      "text/plain": [
       "<Figure size 432x288 with 1 Axes>"
      ]
     },
     "metadata": {
      "needs_background": "light"
     },
     "output_type": "display_data"
    },
    {
     "data": {
      "image/png": "[encoded data removed]",
      "text/plain": [
       "<Figure size 432x288 with 1 Axes>"
      ]
     },
     "metadata": {
      "needs_background": "light"
     },
     "output_type": "display_data"
    }
   ],
   "source": [
    "inputs2 = cv2.imread(\"./MasteringComputerVision-V1.03/Master OpenCV/images/tobago.jpg\")\n",
    "\n",
    "histogram = cv2.calcHist([inputs2], [0], None, [256], [0, 256])\n",
    "\n",
    "plt.hist(inputs2.ravel(), 256, [0, 256]); plt.show()\n",
    "\n",
    "color = (\"b\", \"g\", \"r\")\n",
    "\n",
    "\n",
    "for i, col in enumerate(color):\n",
    "    histogram2 = cv2.calcHist([inputs2], [i], None, [256], [0, 256])\n",
    "    plt.plot(histogram2, color = col)\n",
    "    plt.xlim([0,256])\n",
    "\n",
    "plt.show()\n"
   ]
  },
  {
   "cell_type": "code",
   "execution_count": 36,
   "metadata": {},
   "outputs": [],
   "source": [
    "cv2.imshow(\"tobago\",inputs2)\n",
    "cv2.waitKey(0)\n",
    "cv2.destroyAllWindows()"
   ]
  },
  {
   "cell_type": "code",
   "execution_count": null,
   "metadata": {},
   "outputs": [],
   "source": []
  }
 ],
 "metadata": {
  "kernelspec": {
   "display_name": "Python 3",
   "language": "python",
   "name": "python3"
  },
  "language_info": {
   "codemirror_mode": {
    "name": "ipython",
    "version": 3
   },
   "file_extension": ".py",
   "mimetype": "text/x-python",
   "name": "python",
   "nbconvert_exporter": "python",
   "pygments_lexer": "ipython3",
   "version": "3.7.3"
  }
 },
 "nbformat": 4,
 "nbformat_minor": 2
}
