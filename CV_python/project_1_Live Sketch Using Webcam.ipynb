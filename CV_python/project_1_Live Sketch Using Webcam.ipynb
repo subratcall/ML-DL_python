{
 "cells": [
  {
   "cell_type": "code",
   "execution_count": 1,
   "metadata": {},
   "outputs": [],
   "source": [
    "import cv2\n",
    "import numpy as np\n",
    "\n",
    "# Sketch generating function\n",
    "def sketch(image):\n",
    "    # img convert to grayscale\n",
    "    img_gray = cv2.cvtColor(image, cv2.COLOR_BGR2GRAY)\n",
    "    \n",
    "    # Clean up img with Gaussian Blur\n",
    "    img_gray_blur = cv2.GaussianBlur(img_gray, (5,5), 0)\n",
    "    \n",
    "    # Edge Extraction\n",
    "    # canny는 기본적으로 black background / white edge를 반환한다. 그래서 다음 binarize에서 inverse함수를 사용함.\n",
    "    canny_edge = cv2.Canny(img_gray_blur, 20, 70)\n",
    "    \n",
    "    # invert binarize the img\n",
    "    # 70 넘는 건 다 255로, 70보다 값이 작으면 다 0으로 변형한다는 뜻.\n",
    "    ret, mask = cv2.threshold(canny_edge, 70, 255, cv2.THRESH_BINARY_INV)\n",
    "    return mask\n",
    "\n",
    "\n",
    "# 웹캠 켜기. cv2에서 함수를 지원하며, cap이라는 객체를 생성함\n",
    "cap = cv2.VideoCapture(0)\n",
    "\n",
    "while True:\n",
    "    # cap 객체에 read함수를 써서 웹캠 영상을 읽는다. 24~60프레임 사이라고.\n",
    "    # ret은 boolean 객체이며, 제대로 함수가 작동했는지 아닌지 리턴한다고 함\n",
    "    \n",
    "    ret, frame = cap.read()\n",
    "    cv2.imshow('Live Sketcher', sketch(frame))\n",
    "    if cv2.waitKey(1) == 13: # 13은 엔터키를 말함\n",
    "        break\n",
    "\n",
    "cap.release() # 함수 사용이 끝났으면 release함수를 써서 정리해야 한다. 안 그러면 terminal lock up 된다고 함.\n",
    "cv2.destroyAllWindows()"
   ]
  },
  {
   "cell_type": "code",
   "execution_count": null,
   "metadata": {},
   "outputs": [],
   "source": []
  },
  {
   "cell_type": "code",
   "execution_count": null,
   "metadata": {},
   "outputs": [],
   "source": []
  }
 ],
 "metadata": {
  "kernelspec": {
   "display_name": "Python 3",
   "language": "python",
   "name": "python3"
  },
  "language_info": {
   "codemirror_mode": {
    "name": "ipython",
    "version": 3
   },
   "file_extension": ".py",
   "mimetype": "text/x-python",
   "name": "python",
   "nbconvert_exporter": "python",
   "pygments_lexer": "ipython3",
   "version": "3.7.3"
  }
 },
 "nbformat": 4,
 "nbformat_minor": 2
}
